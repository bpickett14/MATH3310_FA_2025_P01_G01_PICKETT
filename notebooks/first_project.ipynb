{
 "cells": [
  {
   "cell_type": "code",
   "execution_count": null,
   "id": "d4ae9dd4",
   "metadata": {},
   "outputs": [],
   "source": [
    "#import libraries\n",
    "\n",
    "import statsmodels.api as sm\n",
    "import pandas as pd\n",
    "from sklearn.linear_model import LinearRegression\n",
    "from sklearn.model_selection import train_test_split\n",
    "from statsmodels.stats.anova import anova_lm"
   ]
  },
  {
   "cell_type": "code",
   "execution_count": null,
   "id": "c2b14442",
   "metadata": {},
   "outputs": [
    {
     "data": {
      "text/html": [
       "<div>\n",
       "<style scoped>\n",
       "    .dataframe tbody tr th:only-of-type {\n",
       "        vertical-align: middle;\n",
       "    }\n",
       "\n",
       "    .dataframe tbody tr th {\n",
       "        vertical-align: top;\n",
       "    }\n",
       "\n",
       "    .dataframe thead th {\n",
       "        text-align: right;\n",
       "    }\n",
       "</style>\n",
       "<table border=\"1\" class=\"dataframe\">\n",
       "  <thead>\n",
       "    <tr style=\"text-align: right;\">\n",
       "      <th></th>\n",
       "      <th>state</th>\n",
       "      <th>murder.rate</th>\n",
       "      <th>poverty</th>\n",
       "      <th>high.school</th>\n",
       "      <th>college</th>\n",
       "      <th>single.parent</th>\n",
       "      <th>unemployed</th>\n",
       "      <th>metropolitan</th>\n",
       "      <th>region</th>\n",
       "    </tr>\n",
       "  </thead>\n",
       "  <tbody>\n",
       "    <tr>\n",
       "      <th>0</th>\n",
       "      <td>Alabama</td>\n",
       "      <td>7.4</td>\n",
       "      <td>14.7</td>\n",
       "      <td>77.5</td>\n",
       "      <td>20.4</td>\n",
       "      <td>26.0</td>\n",
       "      <td>4.6</td>\n",
       "      <td>70.2</td>\n",
       "      <td>South</td>\n",
       "    </tr>\n",
       "    <tr>\n",
       "      <th>1</th>\n",
       "      <td>Alaska</td>\n",
       "      <td>4.3</td>\n",
       "      <td>8.4</td>\n",
       "      <td>90.4</td>\n",
       "      <td>28.1</td>\n",
       "      <td>23.2</td>\n",
       "      <td>6.6</td>\n",
       "      <td>41.6</td>\n",
       "      <td>West</td>\n",
       "    </tr>\n",
       "    <tr>\n",
       "      <th>2</th>\n",
       "      <td>Arizona</td>\n",
       "      <td>7.0</td>\n",
       "      <td>13.5</td>\n",
       "      <td>85.1</td>\n",
       "      <td>24.6</td>\n",
       "      <td>23.5</td>\n",
       "      <td>3.9</td>\n",
       "      <td>87.9</td>\n",
       "      <td>West</td>\n",
       "    </tr>\n",
       "    <tr>\n",
       "      <th>3</th>\n",
       "      <td>Arkansas</td>\n",
       "      <td>6.3</td>\n",
       "      <td>15.8</td>\n",
       "      <td>81.7</td>\n",
       "      <td>18.4</td>\n",
       "      <td>24.7</td>\n",
       "      <td>4.4</td>\n",
       "      <td>49.0</td>\n",
       "      <td>South</td>\n",
       "    </tr>\n",
       "    <tr>\n",
       "      <th>4</th>\n",
       "      <td>California</td>\n",
       "      <td>6.1</td>\n",
       "      <td>14.0</td>\n",
       "      <td>81.2</td>\n",
       "      <td>27.5</td>\n",
       "      <td>21.8</td>\n",
       "      <td>4.9</td>\n",
       "      <td>96.7</td>\n",
       "      <td>West</td>\n",
       "    </tr>\n",
       "  </tbody>\n",
       "</table>\n",
       "</div>"
      ],
      "text/plain": [
       "        state  murder.rate  poverty  high.school  college  single.parent  \\\n",
       "0     Alabama          7.4     14.7         77.5     20.4           26.0   \n",
       "1      Alaska          4.3      8.4         90.4     28.1           23.2   \n",
       "2     Arizona          7.0     13.5         85.1     24.6           23.5   \n",
       "3    Arkansas          6.3     15.8         81.7     18.4           24.7   \n",
       "4  California          6.1     14.0         81.2     27.5           21.8   \n",
       "\n",
       "   unemployed  metropolitan region  \n",
       "0         4.6          70.2  South  \n",
       "1         6.6          41.6   West  \n",
       "2         3.9          87.9   West  \n",
       "3         4.4          49.0  South  \n",
       "4         4.9          96.7   West  "
      ]
     },
     "execution_count": 7,
     "metadata": {},
     "output_type": "execute_result"
    }
   ],
   "source": [
    "#load crime data from data folder\n",
    "\n",
    "df = pd.read_csv('../data/raw/crime.csv')\n",
    "\n",
    "df.head()"
   ]
  },
  {
   "cell_type": "code",
   "execution_count": null,
   "id": "72b325c7",
   "metadata": {},
   "outputs": [],
   "source": [
    "# declare variables (drop murder rate from X)\n",
    "\n",
    "X = df.drop(columns=['murder.rate', 'state', 'region'])\n",
    "y = df['murder.rate']"
   ]
  },
  {
   "cell_type": "code",
   "execution_count": 16,
   "id": "c45ed403",
   "metadata": {},
   "outputs": [
    {
     "name": "stdout",
     "output_type": "stream",
     "text": [
      "(40, 6) (10, 6) (40,) (10,)\n"
     ]
    }
   ],
   "source": [
    "# split the data in preparation of running a Linear Regression model\n",
    "\n",
    "X_train, X_test, y_train, y_test = train_test_split(X, y, test_size=0.2, random_state=1242)\n",
    "print(X_train.shape, X_test.shape, y_train.shape, y_test.shape)"
   ]
  },
  {
   "cell_type": "code",
   "execution_count": null,
   "id": "b36b435f",
   "metadata": {},
   "outputs": [
    {
     "name": "stdout",
     "output_type": "stream",
     "text": [
      "[ 0.00790884 -0.09705277 -0.01548963  0.45389937  0.3391889   0.03907391]\n",
      "-0.9639947020071737\n"
     ]
    }
   ],
   "source": [
    "# run a multiple linear regression model to predict the murder rate\n",
    "\n",
    "model = LinearRegression()\n",
    "model.fit(X_train, y_train)\n",
    "\n",
    "print (model.coef_)\n",
    "print(model.intercept_)"
   ]
  },
  {
   "cell_type": "code",
   "execution_count": null,
   "id": "74bde1fe",
   "metadata": {},
   "outputs": [
    {
     "name": "stdout",
     "output_type": "stream",
     "text": [
      "                                 OLS Regression Results                                \n",
      "=======================================================================================\n",
      "Dep. Variable:            murder.rate   R-squared (uncentered):                   0.919\n",
      "Model:                            OLS   Adj. R-squared (uncentered):              0.904\n",
      "Method:                 Least Squares   F-statistic:                              63.96\n",
      "Date:                Tue, 21 Oct 2025   Prob (F-statistic):                    4.39e-17\n",
      "Time:                        14:08:19   Log-Likelihood:                         -75.158\n",
      "No. Observations:                  40   AIC:                                      162.3\n",
      "Df Residuals:                      34   BIC:                                      172.4\n",
      "Df Model:                           6                                                  \n",
      "Covariance Type:            nonrobust                                                  \n",
      "=================================================================================\n",
      "                    coef    std err          t      P>|t|      [0.025      0.975]\n",
      "---------------------------------------------------------------------------------\n",
      "poverty           0.0014      0.128      0.011      0.991      -0.258       0.261\n",
      "high.school      -0.1067      0.035     -3.089      0.004      -0.177      -0.036\n",
      "college          -0.0134      0.090     -0.149      0.883      -0.197       0.170\n",
      "single.parent     0.4505      0.099      4.554      0.000       0.249       0.652\n",
      "unemployed        0.3382      0.356      0.949      0.349      -0.386       1.062\n",
      "metropolitan      0.0385      0.016      2.342      0.025       0.005       0.072\n",
      "==============================================================================\n",
      "Omnibus:                        0.029   Durbin-Watson:                   2.030\n",
      "Prob(Omnibus):                  0.986   Jarque-Bera (JB):                0.139\n",
      "Skew:                          -0.058   Prob(JB):                        0.933\n",
      "Kurtosis:                       2.735   Cond. No.                         152.\n",
      "==============================================================================\n",
      "\n",
      "Notes:\n",
      "[1] R² is computed without centering (uncentered) since the model does not contain a constant.\n",
      "[2] Standard Errors assume that the covariance matrix of the errors is correctly specified.\n"
     ]
    }
   ],
   "source": [
    "# run anova\n",
    "\n",
    "model_anova = sm.OLS(y_train, X_train).fit()\n",
    "print(model_anova.summary())"
   ]
  },
  {
   "cell_type": "code",
   "execution_count": null,
   "id": "5fc3ee9f",
   "metadata": {},
   "outputs": [],
   "source": [
    "# get rid of the not statistically significant variables\n",
    "\n",
    "X_reduced = X.drop(columns=['poverty','college','unemployed'])\n",
    "model_reduced = sm.OLS(y_train, X_train).fit()"
   ]
  }
 ],
 "metadata": {
  "kernelspec": {
   "display_name": "venv",
   "language": "python",
   "name": "python3"
  },
  "language_info": {
   "codemirror_mode": {
    "name": "ipython",
    "version": 3
   },
   "file_extension": ".py",
   "mimetype": "text/x-python",
   "name": "python",
   "nbconvert_exporter": "python",
   "pygments_lexer": "ipython3",
   "version": "3.13.7"
  }
 },
 "nbformat": 4,
 "nbformat_minor": 5
}
